{
 "cells": [
  {
   "cell_type": "code",
   "execution_count": 1,
   "id": "87817fe0-f2a6-4d6c-ba2e-ca8ecdf500bd",
   "metadata": {},
   "outputs": [],
   "source": [
    "import numpy as np\n",
    "import torch\n",
    "import torch.nn.functional as F\n",
    "import matplotlib.pyplot as plt\n",
    "\n",
    "%load_ext line_profiler\n",
    "%matplotlib inline\n",
    "\n",
    "torch.set_default_tensor_type(torch.DoubleTensor)\n",
    "\n",
    "import os, sys \n",
    "device = torch.device('cuda:0') #if torch.cuda.is_available() else \n",
    "# device = torch.device(\"cpu\")\n"
   ]
  },
  {
   "cell_type": "markdown",
   "id": "1c38b32e-9780-4327-b055-8400a191057c",
   "metadata": {},
   "source": [
    "### testing direct vs first reaction"
   ]
  },
  {
   "cell_type": "code",
   "execution_count": 3,
   "id": "bd51c39d-ae4a-4072-ade9-733d65c2b2d0",
   "metadata": {},
   "outputs": [],
   "source": [
    "from circuits.mrna_srna.mrna_srna_intrans import mRNAsRNAInTrans, cfg\n",
    "\n",
    "from ssa_solvers.simulators import StochasticSimulator, DeterministicSimulator \n",
    "from ssa_solvers.data_class import SimulationData\n",
    "\n",
    "end_time = 300\n",
    "n_steps = 300\n",
    "n_traj = 20000\n"
   ]
  },
  {
   "cell_type": "code",
   "execution_count": 4,
   "id": "3a0fd2c4-94e6-40b7-8f22-002870b6b7d4",
   "metadata": {},
   "outputs": [],
   "source": [
    "reaction_system = mRNAsRNAInTrans(device=device)\n",
    "init_pops = torch.zeros((reaction_system.n_species, ), dtype=torch.int64, device=device) #torch.randint(1, (reaction_system.n_species, ))\n",
    "time_grid_np = np.arange(0, end_time, int(end_time / n_steps))\n",
    "time_grid_torch = torch.from_numpy(time_grid_np).to(device)\n",
    "\n",
    "# Specifying a simulator using direct method\n",
    "cfg['solver'] = 'direct'\n",
    "data_set_direct = SimulationData(device=device)\n",
    "ssa_simulator_direct = StochasticSimulator(\n",
    "    reaction_system=reaction_system,\n",
    "    data_set=data_set_direct,\n",
    "    cfg=cfg,\n",
    "    device=device\n",
    ")\n",
    "# Specifying a simulator using first reaction method\n",
    "cfg['solver'] = 'first_reaction'\n",
    "data_set_fr = SimulationData(device=device)\n",
    "ssa_simulator_fr = StochasticSimulator(\n",
    "    reaction_system=reaction_system,\n",
    "    data_set=data_set_fr,\n",
    "    cfg=cfg,\n",
    "    device=device\n",
    ")"
   ]
  },
  {
   "cell_type": "code",
   "execution_count": 5,
   "id": "d8c2efd8-8d2d-4682-aa5b-402f8d10b537",
   "metadata": {},
   "outputs": [
    {
     "name": "stdout",
     "output_type": "stream",
     "text": [
      "691 ms ± 38.1 ms per loop (mean ± std. dev. of 7 runs, 1 loop each)\n",
      "707 ms ± 56.6 ms per loop (mean ± std. dev. of 7 runs, 1 loop each)\n"
     ]
    }
   ],
   "source": [
    "%timeit ssa_simulator_fr.simulate(init_pops=init_pops, end_time=end_time, n_trajectories=n_traj)\n",
    "%timeit ssa_simulator_direct.simulate(init_pops=init_pops, end_time=end_time, n_trajectories=n_traj)"
   ]
  },
  {
   "cell_type": "markdown",
   "id": "7833d3a6-81de-4976-b0fb-c344897c82b1",
   "metadata": {},
   "source": [
    "Parameters for deterministic simulations "
   ]
  },
  {
   "cell_type": "code",
   "execution_count": 8,
   "id": "74ce2444-7b57-4900-8aab-3a62bc37b65c",
   "metadata": {},
   "outputs": [],
   "source": [
    "reaction_system = mRNAsRNAInTrans()\n",
    "ode_simulator = DeterministicSimulator(\n",
    "    reaction_system=reaction_system,\n",
    "    cfg=cfg\n",
    ")\n",
    "init_pops = np.zeros((reaction_system.n_species,))\n",
    "time_grid_np = np.arange(0, end_time, int(end_time / n_steps))\n",
    "ode_res = ode_simulator.simulate(init_pops=init_pops, time_grid=time_grid_np)"
   ]
  },
  {
   "cell_type": "markdown",
   "id": "a927ce61-25f9-47d5-9920-e2dc41f2276f",
   "metadata": {
    "tags": []
   },
   "source": [
    "### Plotting results for verification"
   ]
  },
  {
   "cell_type": "markdown",
   "id": "418bc13f-0542-42d8-b286-aefcc9ed07fe",
   "metadata": {},
   "source": [
    "Comptuting the statistics on a grid"
   ]
  },
  {
   "cell_type": "code",
   "execution_count": 9,
   "id": "aa5e754d-884d-4188-9b72-e227fe04f2f6",
   "metadata": {},
   "outputs": [
    {
     "name": "stderr",
     "output_type": "stream",
     "text": [
      "/home/aivar/projects/ssa-solvers/ssa_solvers/data_class.py:97: RuntimeWarning: invalid value encountered in true_divide\n",
      "  return  self.std(species_idxs, time_range) / self.mean(species_idxs, time_range)\n"
     ]
    }
   ],
   "source": [
    "means_direct = data_set_direct.mean(time_range=time_grid_torch)\n",
    "stds_direct = data_set_direct.std(time_range=time_grid_torch)\n",
    "cov_direct = data_set_direct.coefficient_of_variation(time_range=time_grid_torch)\n",
    "\n",
    "means_fr = data_set_fr.mean(time_range=time_grid_torch)\n",
    "stds_fr = data_set_fr.std(time_range=time_grid_torch)\n",
    "cov_fr = data_set_fr.coefficient_of_variation(time_range=time_grid_torch)"
   ]
  },
  {
   "cell_type": "markdown",
   "id": "d366f1e1-4665-400c-8844-6a8a5c86c889",
   "metadata": {},
   "source": [
    "Plotting"
   ]
  },
  {
   "cell_type": "code",
   "execution_count": 12,
   "id": "9ac145e6",
   "metadata": {},
   "outputs": [
    {
     "data": {
      "text/plain": [
       "<matplotlib.legend.Legend at 0x7fbf80473f50>"
      ]
     },
     "execution_count": 12,
     "metadata": {},
     "output_type": "execute_result"
    },
    {
     "data": {
      "image/png": "[encoded data removed]",
      "text/plain": [
       "<Figure size 432x288 with 1 Axes>"
      ]
     },
     "metadata": {
      "needs_background": "light"
     },
     "output_type": "display_data"
    }
   ],
   "source": [
    "species_idx = 1\n",
    "plt.figure()\n",
    "# ode\n",
    "plt.plot(time_grid_np, ode_res[species_idx, :], 'k', label='ODE')\n",
    "# direct ssa \n",
    "plt.plot(time_grid_np, means_direct[species_idx, :], 'b', label='Mean SSA (direct)')\n",
    "plt.fill_between(time_grid_np, means_direct[species_idx,:]+stds_direct[species_idx, :], means_direct[species_idx,:]-stds_direct[species_idx, :], \n",
    "                 color='b', alpha=0.3)\n",
    "plt.xlim([0, end_time])    \n",
    "\n",
    "plt.xlabel('Time (s)')\n",
    "plt.ylabel('Number of species')\n",
    "# first reaction ssa\n",
    "plt.plot(time_grid_np, means_fr[species_idx, :], 'r', label='Mean SSA (first reaction)')\n",
    "plt.fill_between(time_grid_np, means_fr[species_idx,:]+stds_fr[species_idx, :], means_fr[species_idx,:]-stds_fr[species_idx, :], \n",
    "                 color='r',alpha=0.3)\n",
    "plt.xlim([0, end_time])    \n",
    "plt.xlabel('Time (s)')\n",
    "plt.ylabel('Number of species')\n",
    "plt.xlim([0, max(time_grid_np)])\n",
    "plt.ylim([0, 1.1 * max([(means_direct[species_idx,:]+stds_direct[species_idx, :]).max(), \n",
    "                        (means_fr[species_idx,:]+stds_fr[species_idx, :]).max()])])\n",
    "plt.legend()"
   ]
  },
  {
   "cell_type": "markdown",
   "id": "ff5bf545-fd7a-41c6-8949-3568ec3c3ef3",
   "metadata": {},
   "source": [
    "### CPU vs GPU"
   ]
  },
  {
   "cell_type": "code",
   "execution_count": 13,
   "id": "d7172a1c-48f7-455d-aa76-7bbc91d01555",
   "metadata": {},
   "outputs": [],
   "source": [
    "from circuits.auto_repressor.tetr_srna_incis import TetRsRNAInCis, cfg\n",
    "\n",
    "cfg['solver'] = 'direct'\n",
    "device = torch.device(\"cuda:0\")\n",
    "reaction_system_c = TetRsRNAInCis(device=device)\n",
    "init_pops_c = torch.zeros((reaction_system_c.n_species, ), dtype=torch.int64, device=device) \n",
    "data_set_c = SimulationData(device=device)\n",
    "ssa_simulator_c = StochasticSimulator(\n",
    "    reaction_system=reaction_system_c,\n",
    "    data_set=data_set_c,\n",
    "    cfg=cfg,\n",
    "    device=device\n",
    ")\n",
    "\n",
    "device = torch.device(\"cpu\")\n",
    "reaction_system = TetRsRNAInCis(device=device)\n",
    "init_pops = torch.zeros((reaction_system.n_species, ), dtype=torch.int64, device=device) \n",
    "data_set = SimulationData(device=device)\n",
    "ssa_simulator = StochasticSimulator(\n",
    "    reaction_system=reaction_system,\n",
    "    data_set=data_set,\n",
    "    cfg=cfg,\n",
    "    device=device\n",
    ")"
   ]
  },
  {
   "cell_type": "code",
   "execution_count": 14,
   "id": "7cac204a-8e72-44d7-87db-8ec7814191a6",
   "metadata": {},
   "outputs": [
    {
     "name": "stdout",
     "output_type": "stream",
     "text": [
      "477 ms ± 193 ms per loop (mean ± std. dev. of 7 runs, 1 loop each)\n",
      "5.89 s ± 1.42 s per loop (mean ± std. dev. of 7 runs, 1 loop each)\n"
     ]
    }
   ],
   "source": [
    "n_traj = 100000\n",
    "%timeit ssa_simulator_c.simulate(init_pops=init_pops_c, end_time=end_time, n_trajectories=n_traj)\n",
    "%timeit ssa_simulator.simulate(init_pops=init_pops, end_time=end_time, n_trajectories=n_traj)"
   ]
  },
  {
   "cell_type": "code",
   "execution_count": null,
   "id": "168e5793-6718-47e1-aead-a9933bc14166",
   "metadata": {},
   "outputs": [],
   "source": []
  },
  {
   "cell_type": "code",
   "execution_count": null,
   "id": "9e72e988-406f-400e-891c-8a25f05200ea",
   "metadata": {},
   "outputs": [],
   "source": []
  }
 ],
 "metadata": {
  "kernelspec": {
   "display_name": "Python 3 (ipykernel)",
   "language": "python",
   "name": "python3"
  },
  "language_info": {
   "codemirror_mode": {
    "name": "ipython",
    "version": 3
   },
   "file_extension": ".py",
   "mimetype": "text/x-python",
   "name": "python",
   "nbconvert_exporter": "python",
   "pygments_lexer": "ipython3",
   "version": "3.7.13"
  }
 },
 "nbformat": 4,
 "nbformat_minor": 5
}
