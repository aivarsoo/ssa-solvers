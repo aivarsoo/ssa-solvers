{
 "cells": [
  {
   "cell_type": "code",
   "execution_count": 1,
   "id": "87817fe0-f2a6-4d6c-ba2e-ca8ecdf500bd",
   "metadata": {},
   "outputs": [],
   "source": [
    "import numpy as np\n",
    "import torch\n",
    "import torch.nn.functional as F\n",
    "import matplotlib.pyplot as plt\n",
    "\n",
    "%load_ext line_profiler\n",
    "%matplotlib inline\n",
    "\n",
    "torch.set_default_tensor_type(torch.DoubleTensor)\n",
    "\n",
    "import os, sys \n",
    "device = torch.device('cuda:0') #if torch.cuda.is_available() else \n",
    "# device = torch.device(\"cpu\")\n"
   ]
  },
  {
   "cell_type": "markdown",
   "id": "1c38b32e-9780-4327-b055-8400a191057c",
   "metadata": {},
   "source": [
    "### Specifying the circuit to simulate"
   ]
  },
  {
   "cell_type": "code",
   "execution_count": 2,
   "id": "11c2a9da-393d-4af9-bb1b-7c9bb17bcf45",
   "metadata": {},
   "outputs": [],
   "source": [
    "from circuits.mrna_srna.mrna_srna_intrans import mRNAsRNAInTrans, cfg\n",
    "# reaction_system = mRNAsRNAInCis()\n",
    "\n",
    "\n",
    "# reaction_system.params = {'beta_fmrna': 2}  # increasing fmRNA production rate\n"
   ]
  },
  {
   "cell_type": "markdown",
   "id": "cd827624-fd2b-4dae-a835-4d9e16a1e286",
   "metadata": {},
   "source": [
    "### Simulating the circuit"
   ]
  },
  {
   "cell_type": "markdown",
   "id": "8d7bc6bc-d121-472e-bc51-f6ec208472c8",
   "metadata": {},
   "source": [
    "Simulation parameters"
   ]
  },
  {
   "cell_type": "code",
   "execution_count": 12,
   "id": "bd51c39d-ae4a-4072-ade9-733d65c2b2d0",
   "metadata": {},
   "outputs": [],
   "source": [
    "from ssa_solvers.simulators import StochasticSimulator, DeterministicSimulator \n",
    "from ssa_solvers.data_class import SimulationData\n",
    "\n",
    "end_time = 300\n",
    "n_steps = 300\n",
    "n_traj = 20000\n"
   ]
  },
  {
   "cell_type": "code",
   "execution_count": null,
   "id": "9c571ffe-f6d4-42ad-8e8a-d61c6d4862a9",
   "metadata": {},
   "outputs": [],
   "source": [
    "### Timing simulators "
   ]
  },
  {
   "cell_type": "markdown",
   "id": "cde3aa6f-b7aa-4b90-8050-6e7a05db9094",
   "metadata": {},
   "source": [
    "Parameters for stochastic simulations "
   ]
  },
  {
   "cell_type": "code",
   "execution_count": 14,
   "id": "3a0fd2c4-94e6-40b7-8f22-002870b6b7d4",
   "metadata": {},
   "outputs": [],
   "source": [
    "init_pops = torch.zeros((reaction_system.n_species, ), dtype=torch.int64, device=device) #torch.randint(1, (reaction_system.n_species, ))\n",
    "time_grid_torch = torch.from_numpy(time_grid_np).to(device)\n",
    "\n",
    "reaction_system = mRNAsRNAInTrans(device=device)\n",
    "# Specifying a simulator using direct method\n",
    "cfg['solver'] = 'direct'\n",
    "data_set_direct = SimulationData(device=device)\n",
    "ssa_simulator_direct = StochasticSimulator(\n",
    "    reaction_system=reaction_system,\n",
    "    data_set=data_set_direct,\n",
    "    cfg=cfg,\n",
    "    device=device\n",
    ")\n",
    "# Specifying a simulator using first reaction method\n",
    "cfg['solver'] = 'first_reaction'\n",
    "data_set_fr = SimulationData(device=device)\n",
    "ssa_simulator_fr = StochasticSimulator(\n",
    "    reaction_system=reaction_system,\n",
    "    data_set=data_set_fr,\n",
    "    cfg=cfg,\n",
    "    device=device\n",
    ")"
   ]
  },
  {
   "cell_type": "markdown",
   "id": "03c0d647-af12-483f-8a37-6923e972c9ee",
   "metadata": {},
   "source": [
    "%timeit ssa_simulator_fr.simulate(init_pops=init_pops, end_time=end_time, n_trajectories=n_traj)\n",
    "%timeit ssa_simulator_direct.simulate(init_pops=init_pops, end_time=end_time, n_trajectories=n_traj)"
   ]
  },
  {
   "cell_type": "code",
   "execution_count": null,
   "id": "b343ab70-f8ac-43d8-8df8-c469757994c1",
   "metadata": {
    "tags": []
   },
   "outputs": [],
   "source": []
  },
  {
   "cell_type": "markdown",
   "id": "ff5bf545-fd7a-41c6-8949-3568ec3c3ef3",
   "metadata": {},
   "source": [
    "### CPU vs GPU"
   ]
  },
  {
   "cell_type": "code",
   "execution_count": 35,
   "id": "d7172a1c-48f7-455d-aa76-7bbc91d01555",
   "metadata": {},
   "outputs": [],
   "source": [
    "from circuits.auto_repressor.tetr_srna_incis import TetRsRNAInCis, cfg\n",
    "\n",
    "cfg['solver'] = 'direct'\n",
    "device = torch.device(\"cuda:0\")\n",
    "reaction_system_c = TetRsRNAInCis(device=device)\n",
    "init_pops_c = torch.zeros((reaction_system_c.n_species, ), dtype=torch.int64, device=device) \n",
    "data_set_c = SimulationData(device=device)\n",
    "ssa_simulator_c = StochasticSimulator(\n",
    "    reaction_system=reaction_system_c,\n",
    "    data_set=data_set_c,\n",
    "    cfg=cfg,\n",
    "    device=device\n",
    ")\n",
    "\n",
    "device = torch.device(\"cpu\")\n",
    "reaction_system = TetRsRNAInCis(device=device)\n",
    "init_pops = torch.zeros((reaction_system.n_species, ), dtype=torch.int64, device=device) \n",
    "data_set = SimulationData(device=device)\n",
    "ssa_simulator = StochasticSimulator(\n",
    "    reaction_system=reaction_system,\n",
    "    data_set=data_set,\n",
    "    cfg=cfg,\n",
    "    device=device\n",
    ")"
   ]
  },
  {
   "cell_type": "code",
   "execution_count": 36,
   "id": "7cac204a-8e72-44d7-87db-8ec7814191a6",
   "metadata": {},
   "outputs": [
    {
     "name": "stdout",
     "output_type": "stream",
     "text": [
      "351 ms ± 35.5 ms per loop (mean ± std. dev. of 7 runs, 1 loop each)\n"
     ]
    }
   ],
   "source": [
    "n_traj = 100000\n",
    "%timeit ssa_simulator_c.simulate(init_pops=init_pops_c, end_time=end_time, n_trajectories=n_traj)\n",
    "# %timeit ssa_simulator.simulate(init_pops=init_pops, end_time=end_time, n_trajectories=n_traj)"
   ]
  },
  {
   "cell_type": "markdown",
   "id": "7833d3a6-81de-4976-b0fb-c344897c82b1",
   "metadata": {},
   "source": [
    "Parameters for deterministic simulations "
   ]
  },
  {
   "cell_type": "code",
   "execution_count": 13,
   "id": "74ce2444-7b57-4900-8aab-3a62bc37b65c",
   "metadata": {},
   "outputs": [],
   "source": [
    "reaction_system = mRNAsRNAInTrans()\n",
    "ode_simulator = DeterministicSimulator(\n",
    "    reaction_system=reaction_system,\n",
    "    cfg=cfg\n",
    ")\n",
    "init_pops = np.zeros((reaction_system.n_species,))\n",
    "time_grid_np = np.arange(0, end_time, int(end_time / n_steps))\n",
    "ode_res = ode_simulator.simulate(init_pops=init_pops, time_grid=time_grid_np)"
   ]
  },
  {
   "cell_type": "markdown",
   "id": "a927ce61-25f9-47d5-9920-e2dc41f2276f",
   "metadata": {
    "tags": []
   },
   "source": [
    "### Plotting results for verification"
   ]
  },
  {
   "cell_type": "markdown",
   "id": "418bc13f-0542-42d8-b286-aefcc9ed07fe",
   "metadata": {},
   "source": [
    "Comptuting the statistics on a grid"
   ]
  },
  {
   "cell_type": "code",
   "execution_count": 8,
   "id": "aa5e754d-884d-4188-9b72-e227fe04f2f6",
   "metadata": {},
   "outputs": [
    {
     "ename": "AssertionError",
     "evalue": "Please get the data before computing statistics",
     "output_type": "error",
     "traceback": [
      "\u001b[0;31m---------------------------------------------------------------------------\u001b[0m",
      "\u001b[0;31mAssertionError\u001b[0m                            Traceback (most recent call last)",
      "\u001b[0;32m/tmp/ipykernel_4652/3788107178.py\u001b[0m in \u001b[0;36m<module>\u001b[0;34m\u001b[0m\n\u001b[0;32m----> 1\u001b[0;31m \u001b[0mmeans_direct\u001b[0m \u001b[0;34m=\u001b[0m \u001b[0mdata_set_direct\u001b[0m\u001b[0;34m.\u001b[0m\u001b[0mmean\u001b[0m\u001b[0;34m(\u001b[0m\u001b[0mtime_range\u001b[0m\u001b[0;34m=\u001b[0m\u001b[0mtime_grid_torch\u001b[0m\u001b[0;34m)\u001b[0m\u001b[0;34m\u001b[0m\u001b[0;34m\u001b[0m\u001b[0m\n\u001b[0m\u001b[1;32m      2\u001b[0m \u001b[0mstds_direct\u001b[0m \u001b[0;34m=\u001b[0m \u001b[0mdata_set_direct\u001b[0m\u001b[0;34m.\u001b[0m\u001b[0mstd\u001b[0m\u001b[0;34m(\u001b[0m\u001b[0mtime_range\u001b[0m\u001b[0;34m=\u001b[0m\u001b[0mtime_grid_torch\u001b[0m\u001b[0;34m)\u001b[0m\u001b[0;34m\u001b[0m\u001b[0;34m\u001b[0m\u001b[0m\n\u001b[1;32m      3\u001b[0m \u001b[0mcov_direct\u001b[0m \u001b[0;34m=\u001b[0m \u001b[0mdata_set_direct\u001b[0m\u001b[0;34m.\u001b[0m\u001b[0mcoefficient_of_variation\u001b[0m\u001b[0;34m(\u001b[0m\u001b[0mtime_range\u001b[0m\u001b[0;34m=\u001b[0m\u001b[0mtime_grid_torch\u001b[0m\u001b[0;34m)\u001b[0m\u001b[0;34m\u001b[0m\u001b[0;34m\u001b[0m\u001b[0m\n\u001b[1;32m      4\u001b[0m \u001b[0;34m\u001b[0m\u001b[0m\n\u001b[1;32m      5\u001b[0m \u001b[0mmeans_fr\u001b[0m \u001b[0;34m=\u001b[0m \u001b[0mdata_set_fr\u001b[0m\u001b[0;34m.\u001b[0m\u001b[0mmean\u001b[0m\u001b[0;34m(\u001b[0m\u001b[0mtime_range\u001b[0m\u001b[0;34m=\u001b[0m\u001b[0mtime_grid_torch\u001b[0m\u001b[0;34m)\u001b[0m\u001b[0;34m\u001b[0m\u001b[0;34m\u001b[0m\u001b[0m\n",
      "\u001b[0;32m~/projects/ssa-solvers/ssa_solvers/data_class.py\u001b[0m in \u001b[0;36mmean\u001b[0;34m(self, species_idxs, time_range)\u001b[0m\n\u001b[1;32m     68\u001b[0m         \u001b[0;34m:\u001b[0m\u001b[0;32mreturn\u001b[0m\u001b[0;34m:\u001b[0m \u001b[0mmean\u001b[0m \u001b[0mof\u001b[0m \u001b[0mthe\u001b[0m \u001b[0mpops\u001b[0m \u001b[0;32mwith\u001b[0m \u001b[0mspecies_idxs\u001b[0m\u001b[0;34m,\u001b[0m \u001b[0;32mif\u001b[0m \u001b[0mtime_range\u001b[0m \u001b[0;32mis\u001b[0m \u001b[0mempty\u001b[0m \u001b[0mthen\u001b[0m \u001b[0mreturns\u001b[0m \u001b[0mthe\u001b[0m \u001b[0mlast\u001b[0m \u001b[0mprocessed\u001b[0m\u001b[0;34m\u001b[0m\u001b[0;34m\u001b[0m\u001b[0m\n\u001b[1;32m     69\u001b[0m         \"\"\"\n\u001b[0;32m---> 70\u001b[0;31m         \u001b[0;32massert\u001b[0m \u001b[0mself\u001b[0m\u001b[0;34m.\u001b[0m\u001b[0mraw_pops_trajectories\u001b[0m \u001b[0;32mis\u001b[0m \u001b[0;32mnot\u001b[0m \u001b[0;32mNone\u001b[0m\u001b[0;34m,\u001b[0m \u001b[0;34m\"Please get the data before computing statistics\"\u001b[0m\u001b[0;34m\u001b[0m\u001b[0;34m\u001b[0m\u001b[0m\n\u001b[0m\u001b[1;32m     71\u001b[0m         \u001b[0;32massert\u001b[0m \u001b[0;32mnot\u001b[0m \u001b[0;34m(\u001b[0m\u001b[0mtime_range\u001b[0m \u001b[0;32mis\u001b[0m \u001b[0;32mNone\u001b[0m \u001b[0;32mand\u001b[0m \u001b[0mself\u001b[0m\u001b[0;34m.\u001b[0m\u001b[0mprocessed_pops_trajectories\u001b[0m \u001b[0;32mis\u001b[0m \u001b[0;32mNone\u001b[0m\u001b[0;34m)\u001b[0m\u001b[0;34m,\u001b[0m \u001b[0;34m\"Specify time_range as no data was processed\"\u001b[0m\u001b[0;34m\u001b[0m\u001b[0;34m\u001b[0m\u001b[0m\n\u001b[1;32m     72\u001b[0m         \u001b[0;32mif\u001b[0m \u001b[0mtime_range\u001b[0m \u001b[0;32mis\u001b[0m \u001b[0;32mnot\u001b[0m \u001b[0;32mNone\u001b[0m \u001b[0;32mor\u001b[0m \u001b[0mself\u001b[0m\u001b[0;34m.\u001b[0m\u001b[0mprocessed_pops_trajectories\u001b[0m \u001b[0;32mis\u001b[0m \u001b[0;32mNone\u001b[0m\u001b[0;34m:\u001b[0m\u001b[0;34m\u001b[0m\u001b[0;34m\u001b[0m\u001b[0m\n",
      "\u001b[0;31mAssertionError\u001b[0m: Please get the data before computing statistics"
     ]
    }
   ],
   "source": [
    "means_direct = data_set_direct.mean(time_range=time_grid_torch)\n",
    "stds_direct = data_set_direct.std(time_range=time_grid_torch)\n",
    "cov_direct = data_set_direct.coefficient_of_variation(time_range=time_grid_torch)\n",
    "\n",
    "means_fr = data_set_fr.mean(time_range=time_grid_torch)\n",
    "stds_fr = data_set_fr.std(time_range=time_grid_torch)\n",
    "cov_fr = data_set_fr.coefficient_of_variation(time_range=time_grid_torch)"
   ]
  },
  {
   "cell_type": "markdown",
   "id": "d366f1e1-4665-400c-8844-6a8a5c86c889",
   "metadata": {},
   "source": [
    "Plotting"
   ]
  },
  {
   "cell_type": "code",
   "execution_count": null,
   "id": "9ac145e6",
   "metadata": {},
   "outputs": [],
   "source": [
    "species_idx = 1\n",
    "plt.figure()\n",
    "# ode\n",
    "plt.plot(time_grid_np, ode_res[species_idx, :], 'k', label='ODE')\n",
    "# direct ssa \n",
    "plt.plot(time_grid_torch, means_direct[species_idx, :], 'b', label='Mean SSA (direct)')\n",
    "plt.fill_between(time_grid_torch, means_direct[species_idx,:]+stds_direct[species_idx, :], means_direct[species_idx,:]-stds_direct[species_idx, :], \n",
    "                 color='b', alpha=0.3)\n",
    "plt.xlim([0, end_time])    \n",
    "\n",
    "plt.xlabel('Time (s)')\n",
    "plt.ylabel('Number of species')\n",
    "# first reaction ssa\n",
    "plt.plot(time_grid_torch, means_fr[species_idx, :], 'r', label='Mean SSA (first reaction)')\n",
    "plt.fill_between(time_grid_torch, means_fr[species_idx,:]+stds_fr[species_idx, :], means_fr[species_idx,:]-stds_fr[species_idx, :], \n",
    "                 color='r',alpha=0.3)\n",
    "plt.xlim([0, end_time])    \n",
    "plt.xlabel('Time (s)')\n",
    "plt.ylabel('Number of species')\n",
    "plt.xlim([0, max(time_grid_np)])\n",
    "plt.ylim([0, 1.1 * max([(means_direct[species_idx,:]+stds_direct[species_idx, :]).max(), \n",
    "                        (means_fr[species_idx,:]+stds_fr[species_idx, :]).max()])])\n",
    "plt.legend()"
   ]
  },
  {
   "cell_type": "code",
   "execution_count": null,
   "id": "168e5793-6718-47e1-aead-a9933bc14166",
   "metadata": {},
   "outputs": [],
   "source": []
  },
  {
   "cell_type": "code",
   "execution_count": null,
   "id": "9e72e988-406f-400e-891c-8a25f05200ea",
   "metadata": {},
   "outputs": [],
   "source": []
  }
 ],
 "metadata": {
  "kernelspec": {
   "display_name": "Python 3 (ipykernel)",
   "language": "python",
   "name": "python3"
  },
  "language_info": {
   "codemirror_mode": {
    "name": "ipython",
    "version": 3
   },
   "file_extension": ".py",
   "mimetype": "text/x-python",
   "name": "python",
   "nbconvert_exporter": "python",
   "pygments_lexer": "ipython3",
   "version": "3.7.13"
  }
 },
 "nbformat": 4,
 "nbformat_minor": 5
}
