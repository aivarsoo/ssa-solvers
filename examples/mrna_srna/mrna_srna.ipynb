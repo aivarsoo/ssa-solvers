{
 "cells": [
  {
   "cell_type": "code",
   "execution_count": 1,
   "id": "87817fe0-f2a6-4d6c-ba2e-ca8ecdf500bd",
   "metadata": {},
   "outputs": [],
   "source": [
    "import numpy as np\n",
    "import torch\n",
    "import torch.nn.functional as F\n",
    "import scipy.stats as st\n",
    "import scipy.interpolate as interpolate\n",
    "import matplotlib.pyplot as plt\n",
    "\n",
    "%load_ext line_profiler\n",
    "%matplotlib inline\n",
    "\n",
    "torch.set_default_tensor_type(torch.DoubleTensor)"
   ]
  },
  {
   "cell_type": "code",
   "execution_count": 2,
   "id": "a468ec83",
   "metadata": {},
   "outputs": [],
   "source": [
    "import os, sys \n",
    "sys.path.append(os.path.abspath(\"..\\..\"))\n",
    "from src.simulators import StochasticSimulator, DeterministicSimulator \n",
    "from src.data_class import SimulationData\n",
    "\n",
    "end_time = 300\n",
    "n_steps = 300\n",
    "n_traj = 200\n",
    "time_grid_np = np.arange(0, end_time, int(end_time / n_steps))\n",
    "time_grid_torch = torch.from_numpy(time_grid_np)\n"
   ]
  },
  {
   "cell_type": "markdown",
   "id": "03c0d647-af12-483f-8a37-6923e972c9ee",
   "metadata": {},
   "source": [
    "### Simulating in trans mRNA - sRNA  circuit"
   ]
  },
  {
   "cell_type": "code",
   "execution_count": 3,
   "id": "56b0f05d-8cea-468d-930e-5281725dcb37",
   "metadata": {},
   "outputs": [],
   "source": [
    "from examples.mrna_srna.mrna_srna_incis import mRNAsRNAInCis, cfg\n",
    "\n",
    "data_set_incis = SimulationData()\n",
    "reaction_system_incis = mRNAsRNAInCis()\n",
    "ode_simulator = DeterministicSimulator(\n",
    "    reaction_system=reaction_system_incis,\n",
    "    cfg=cfg\n",
    ")\n",
    "ssa_simulator = StochasticSimulator(\n",
    "    reaction_system=reaction_system_incis,\n",
    "    data_set=data_set_incis,\n",
    "    cfg=cfg\n",
    ")\n",
    "reaction_system_incis.params = {'beta_fmrna': 2}  # increasing fmRNA production rate\n",
    "init_pops = torch.zeros((reaction_system_incis.n_species, ), dtype=torch.int64) #torch.randint(1, (reaction_system.n_species, ))\n",
    "ssa_simulator.simulate(init_pops=init_pops, end_time=end_time, n_trajectories=n_traj)\n",
    "ode_res_incis = ode_simulator.simulate(init_pops=np.zeros((reaction_system_incis.n_species,)), time_grid=time_grid_np)"
   ]
  },
  {
   "cell_type": "markdown",
   "id": "f0d17297-c64d-441c-9734-75b3acf1b112",
   "metadata": {},
   "source": [
    "### Simulating in trans mRNA - sRNA  circuit"
   ]
  },
  {
   "cell_type": "code",
   "execution_count": 4,
   "id": "b19d61a7-ca0c-4d86-a827-c623cc8f316e",
   "metadata": {},
   "outputs": [],
   "source": [
    "from examples.mrna_srna.mrna_srna_intrans import mRNAsRNAInTrans, cfg\n",
    "\n",
    "data_set_intrans = SimulationData()\n",
    "reaction_system_intrans = mRNAsRNAInTrans()\n",
    "ode_simulator = DeterministicSimulator(\n",
    "    reaction_system=reaction_system_intrans,\n",
    "    cfg=cfg\n",
    ")\n",
    "ssa_simulator = StochasticSimulator(\n",
    "    reaction_system=reaction_system_intrans,\n",
    "    data_set=data_set_intrans,\n",
    "    cfg=cfg\n",
    ")\n",
    "init_pops = torch.zeros((reaction_system_intrans.n_species, ), dtype=torch.int64) #torch.randint(1, (reaction_system.n_species, ))\n",
    "ssa_simulator.simulate(init_pops=init_pops, end_time=end_time, n_trajectories=n_traj)\n",
    "ode_res_intrans = ode_simulator.simulate(init_pops=np.zeros((reaction_system_intrans.n_species,)), time_grid=time_grid_np)"
   ]
  },
  {
   "cell_type": "markdown",
   "id": "418bc13f-0542-42d8-b286-aefcc9ed07fe",
   "metadata": {},
   "source": [
    "### Comptuting the statistics on a grid"
   ]
  },
  {
   "cell_type": "code",
   "execution_count": 5,
   "id": "aa5e754d-884d-4188-9b72-e227fe04f2f6",
   "metadata": {},
   "outputs": [],
   "source": [
    "means_incis = data_set_incis.mean(time_range=time_grid_torch)\n",
    "stds_incis = data_set_incis.std(time_range=time_grid_torch)\n",
    "cov_incis = data_set_incis.coefficient_of_variation(time_range=time_grid_torch)\n",
    "\n",
    "means_intrans = data_set_intrans.mean(time_range=time_grid_torch)\n",
    "stds_intrans = data_set_intrans.std(time_range=time_grid_torch)\n",
    "cov_intrans = data_set_intrans.coefficient_of_variation(time_range=time_grid_torch)"
   ]
  },
  {
   "cell_type": "markdown",
   "id": "d366f1e1-4665-400c-8844-6a8a5c86c889",
   "metadata": {},
   "source": [
    "### Plotting results"
   ]
  },
  {
   "cell_type": "code",
   "execution_count": 6,
   "id": "9ac145e6",
   "metadata": {},
   "outputs": [
    {
     "data": {
      "text/plain": [
       "<matplotlib.legend.Legend at 0x1e3bca28970>"
      ]
     },
     "execution_count": 6,
     "metadata": {},
     "output_type": "execute_result"
    },
    {
     "data": {
      "image/png": "[encoded data removed]",
      "text/plain": [
       "<Figure size 432x288 with 1 Axes>"
      ]
     },
     "metadata": {
      "needs_background": "light"
     },
     "output_type": "display_data"
    }
   ],
   "source": [
    "species_idx_incis = 1\n",
    "plt.figure()\n",
    "plt.plot(time_grid_torch, means_incis[species_idx_incis, :], 'b', label='Mean SSA (in cis)')\n",
    "plt.fill_between(time_grid_torch, means_incis[species_idx_incis,:]+stds_incis[species_idx_incis, :], means_incis[species_idx_incis,:]-stds_incis[species_idx_incis, :], \n",
    "                 color='b', alpha=0.3)\n",
    "plt.xlim([0, end_time])    \n",
    "# plt.plot(time_grid_np, ode_res_incis[species_idx_incis, :], 'b', label='ODE (in cis)')\n",
    "plt.xlabel('Time (s)')\n",
    "plt.ylabel('Number of species')\n",
    "# random traces \n",
    "# trajs = [0, 40, 20, 11]\n",
    "# for traj_idx in trajs:\n",
    "#     plt.plot(data_set.raw_times_trajectories[traj_idx,  :], data_set.raw_pops_trajectories[traj_idx, species_idx, :], color='b')\n",
    "\n",
    "species_idx_intrans = 2\n",
    "plt.plot(time_grid_torch, means_intrans[species_idx_intrans, :], 'r', label='Mean SSA (in trans)')\n",
    "plt.fill_between(time_grid_torch, means_intrans[species_idx_intrans,:]+stds_intrans[species_idx_intrans, :], means_intrans[species_idx_intrans,:]-stds_intrans[species_idx_intrans, :], \n",
    "                 color='r',alpha=0.3)\n",
    "plt.xlim([0, end_time])    \n",
    "# plt.plot(time_grid_np, ode_res_intrans[species_idx_intrans, :], 'r', label='ODE (in trans)')\n",
    "plt.xlabel('Time (s)')\n",
    "plt.ylabel('Number of species')\n",
    "plt.xlim([0, max(time_grid_np)])\n",
    "plt.ylim([0, 1.1 * max([(means_intrans[species_idx_intrans,:]+stds_intrans[species_idx_intrans, :]).max(), \n",
    "                        (means_incis[species_idx_incis,:]+stds_incis[species_idx_incis, :]).max()])])\n",
    "plt.legend()\n"
   ]
  },
  {
   "cell_type": "code",
   "execution_count": null,
   "id": "27f53fb3-aaf4-4fcb-9a61-cde81c17dbfb",
   "metadata": {},
   "outputs": [],
   "source": []
  },
  {
   "cell_type": "code",
   "execution_count": null,
   "id": "18ec82f3-3878-4a06-9651-bcd916963ed8",
   "metadata": {},
   "outputs": [],
   "source": []
  }
 ],
 "metadata": {
  "kernelspec": {
   "display_name": "Python 3 (ipykernel)",
   "language": "python",
   "name": "python3"
  },
  "language_info": {
   "codemirror_mode": {
    "name": "ipython",
    "version": 3
   },
   "file_extension": ".py",
   "mimetype": "text/x-python",
   "name": "python",
   "nbconvert_exporter": "python",
   "pygments_lexer": "ipython3",
   "version": "3.8.5"
  }
 },
 "nbformat": 4,
 "nbformat_minor": 5
}
