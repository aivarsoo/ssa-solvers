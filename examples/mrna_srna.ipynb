{
 "cells": [
  {
   "cell_type": "code",
   "execution_count": 1,
   "id": "87817fe0-f2a6-4d6c-ba2e-ca8ecdf500bd",
   "metadata": {},
   "outputs": [],
   "source": [
    "import numpy as np\n",
    "import torch\n",
    "import torch.nn.functional as F\n",
    "import scipy.stats as st\n",
    "import scipy.interpolate as interpolate\n",
    "import matplotlib.pyplot as plt\n",
    "\n",
    "%load_ext line_profiler\n",
    "%matplotlib inline\n",
    "\n",
    "torch.set_default_tensor_type(torch.DoubleTensor)\n",
    "\n",
    "device = torch.device('cuda:0') if torch.cuda.is_available else torch.device(\"cpu\")\n",
    "# device = torch.device(\"cpu\")"
   ]
  },
  {
   "cell_type": "code",
   "execution_count": 2,
   "id": "a468ec83",
   "metadata": {},
   "outputs": [
    {
     "ename": "RuntimeError",
     "evalue": "No CUDA GPUs are available",
     "output_type": "error",
     "traceback": [
      "\u001b[0;31m---------------------------------------------------------------------------\u001b[0m",
      "\u001b[0;31mRuntimeError\u001b[0m                              Traceback (most recent call last)",
      "Input \u001b[0;32mIn [2]\u001b[0m, in \u001b[0;36m<cell line: 9>\u001b[0;34m()\u001b[0m\n\u001b[1;32m      7\u001b[0m n_traj \u001b[38;5;241m=\u001b[39m \u001b[38;5;241m10000\u001b[39m\n\u001b[1;32m      8\u001b[0m time_grid_np \u001b[38;5;241m=\u001b[39m np\u001b[38;5;241m.\u001b[39marange(\u001b[38;5;241m0\u001b[39m, end_time, \u001b[38;5;28mint\u001b[39m(end_time \u001b[38;5;241m/\u001b[39m n_steps))\n\u001b[0;32m----> 9\u001b[0m time_grid_torch \u001b[38;5;241m=\u001b[39m \u001b[43mtorch\u001b[49m\u001b[38;5;241;43m.\u001b[39;49m\u001b[43mfrom_numpy\u001b[49m\u001b[43m(\u001b[49m\u001b[43mtime_grid_np\u001b[49m\u001b[43m)\u001b[49m\u001b[38;5;241;43m.\u001b[39;49m\u001b[43mto\u001b[49m\u001b[43m(\u001b[49m\u001b[43mdevice\u001b[49m\u001b[43m)\u001b[49m\n",
      "File \u001b[0;32m~/miniconda3/envs/test_new/lib/python3.9/site-packages/torch/cuda/__init__.py:217\u001b[0m, in \u001b[0;36m_lazy_init\u001b[0;34m()\u001b[0m\n\u001b[1;32m    213\u001b[0m     \u001b[38;5;28;01mraise\u001b[39;00m \u001b[38;5;167;01mAssertionError\u001b[39;00m(\n\u001b[1;32m    214\u001b[0m         \u001b[38;5;124m\"\u001b[39m\u001b[38;5;124mlibcudart functions unavailable. It looks like you have a broken build?\u001b[39m\u001b[38;5;124m\"\u001b[39m)\n\u001b[1;32m    215\u001b[0m \u001b[38;5;66;03m# This function throws if there's a driver initialization error, no GPUs\u001b[39;00m\n\u001b[1;32m    216\u001b[0m \u001b[38;5;66;03m# are found or any other error occurs\u001b[39;00m\n\u001b[0;32m--> 217\u001b[0m \u001b[43mtorch\u001b[49m\u001b[38;5;241;43m.\u001b[39;49m\u001b[43m_C\u001b[49m\u001b[38;5;241;43m.\u001b[39;49m\u001b[43m_cuda_init\u001b[49m\u001b[43m(\u001b[49m\u001b[43m)\u001b[49m\n\u001b[1;32m    218\u001b[0m \u001b[38;5;66;03m# Some of the queued calls may reentrantly call _lazy_init();\u001b[39;00m\n\u001b[1;32m    219\u001b[0m \u001b[38;5;66;03m# we need to just return without initializing in that case.\u001b[39;00m\n\u001b[1;32m    220\u001b[0m \u001b[38;5;66;03m# However, we must not let any *other* threads in!\u001b[39;00m\n\u001b[1;32m    221\u001b[0m _tls\u001b[38;5;241m.\u001b[39mis_initializing \u001b[38;5;241m=\u001b[39m \u001b[38;5;28;01mTrue\u001b[39;00m\n",
      "\u001b[0;31mRuntimeError\u001b[0m: No CUDA GPUs are available"
     ]
    }
   ],
   "source": [
    "import os, sys \n",
    "from ssa_solvers.simulators import StochasticSimulator, DeterministicSimulator \n",
    "from ssa_solvers.data_class import SimulationData\n",
    "\n",
    "end_time = 300\n",
    "n_steps = 300\n",
    "n_traj = 10000\n",
    "time_grid = np.arange(0, end_time, end_time / n_steps)"
   ]
  },
  {
   "cell_type": "markdown",
   "id": "03c0d647-af12-483f-8a37-6923e972c9ee",
   "metadata": {},
   "source": [
    "### Simulating in cis mRNA - sRNA  circuit"
   ]
  },
  {
   "cell_type": "code",
   "execution_count": null,
   "id": "56b0f05d-8cea-468d-930e-5281725dcb37",
   "metadata": {},
   "outputs": [],
   "source": [
    "from circuits.mrna_srna.mrna_srna_incis import mRNAsRNAInCis, cfg\n",
    "\n",
    "data_set_incis = SimulationData(device=device)\n",
    "reaction_system_incis = mRNAsRNAInCis(device=torch.device(\"cpu\"))\n",
    "ode_simulator = DeterministicSimulator(\n",
    "    reaction_system=reaction_system_incis,\n",
    "    cfg=cfg\n",
    ")\n",
    "reaction_system_incis = mRNAsRNAInCis(device=device)\n",
    "ssa_simulator_incis = StochasticSimulator(\n",
    "    reaction_system=reaction_system_incis,\n",
    "    cfg=cfg,\n",
    "    device=device\n",
    ")\n",
    "reaction_system_incis.params = {'beta_fmrna': 2}  # increasing fmRNA production rate\n",
    "init_pops = torch.zeros((reaction_system_incis.n_species, ), dtype=torch.int64, device=device) #torch.randint(1, (reaction_system.n_species, ), device=device)\n",
    "ssa_simulator_incis.simulate(init_pops=init_pops, end_time=end_time, n_trajectories=n_traj)\n",
    "ode_res_incis = ode_simulator.simulate(init_pops=np.zeros((reaction_system_incis.n_species,)), time_grid=time_grid)"
   ]
  },
  {
   "cell_type": "markdown",
   "id": "f0d17297-c64d-441c-9734-75b3acf1b112",
   "metadata": {},
   "source": [
    "### Simulating in trans mRNA - sRNA  circuit"
   ]
  },
  {
   "cell_type": "code",
   "execution_count": null,
   "id": "b19d61a7-ca0c-4d86-a827-c623cc8f316e",
   "metadata": {},
   "outputs": [],
   "source": [
    "from circuits.mrna_srna.mrna_srna_intrans import mRNAsRNAInTrans, cfg\n",
    "\n",
    "data_set_intrans = SimulationData(device=device)\n",
    "reaction_system_intrans = mRNAsRNAInTrans(device=torch.device(\"cpu\"))\n",
    "ode_simulator = DeterministicSimulator(\n",
    "    reaction_system=reaction_system_intrans,\n",
    "    cfg=cfg\n",
    ")\n",
    "reaction_system_intrans = mRNAsRNAInTrans(device=device)\n",
    "ssa_simulator_intrans = StochasticSimulator(\n",
    "    reaction_system=reaction_system_intrans,\n",
    "    cfg=cfg,\n",
    "    device=device\n",
    ")\n",
    "init_pops = torch.zeros((reaction_system_intrans.n_species, ), dtype=torch.int64, device=device) #torch.randint(1, (reaction_system.n_species, ), device=device)\n",
    "ssa_simulator_intrans.simulate(init_pops=init_pops, end_time=end_time, n_trajectories=n_traj)\n",
    "ode_res_intrans = ode_simulator.simulate(init_pops=np.zeros((reaction_system_intrans.n_species,)), time_grid=time_grid)"
   ]
  },
  {
   "cell_type": "markdown",
   "id": "418bc13f-0542-42d8-b286-aefcc9ed07fe",
   "metadata": {},
   "source": [
    "### Comptuting the statistics on a grid"
   ]
  },
  {
   "cell_type": "code",
   "execution_count": null,
   "id": "aa5e754d-884d-4188-9b72-e227fe04f2f6",
   "metadata": {},
   "outputs": [],
   "source": [
    "means_incis = ssa_simulator_incis.data_set.mean(time_range=time_grid_torch)\n",
    "stds_incis = ssa_simulator_incis.data_set.std(time_range=time_grid_torch)\n",
    "cov_incis = ssa_simulator_incis.data_set.coefficient_of_variation(time_range=time_grid)\n",
    "\n",
    "means_intrans = ssa_simulator_intrans.data_set.mean(time_range=time_grid_torch)\n",
    "stds_intrans = ssa_simulator_intrans.data_set.std(time_range=time_grid_torch)\n",
    "cov_intrans = ssa_simulator_intrans.data_set.coefficient_of_variation(time_range=time_grid)"
   ]
  },
  {
   "cell_type": "markdown",
   "id": "d366f1e1-4665-400c-8844-6a8a5c86c889",
   "metadata": {},
   "source": [
    "### Plotting results"
   ]
  },
  {
   "cell_type": "code",
   "execution_count": null,
   "id": "9ac145e6",
   "metadata": {},
   "outputs": [],
   "source": [
    "species_idx_incis = 1\n",
    "plt.figure()\n",
    "plt.plot(time_grid, means_incis[species_idx_incis, :], 'b', label='Mean SSA (in cis)')\n",
    "plt.fill_between(time_grid, means_incis[species_idx_incis,:]+stds_incis[species_idx_incis, :], means_incis[species_idx_incis,:]-stds_incis[species_idx_incis, :], \n",
    "                 color='b', alpha=0.3)\n",
    "plt.xlim([0, end_time])    \n",
    "plt.plot(time_grid, ode_res_incis[species_idx_incis, :], 'b--', label='ODE (in cis)')\n",
    "plt.xlabel('Time (s)')\n",
    "plt.ylabel('Number of species')\n",
    "# random traces \n",
    "# trajs = [0, 40, 20, 11]\n",
    "# for traj_idx in trajs:\n",
    "#     plt.plot(data_set.raw_times_trajectories[traj_idx,  :], data_set.raw_pops_trajectories[traj_idx, species_idx, :], color='b')\n",
    "\n",
    "species_idx_intrans = 2\n",
    "plt.plot(time_grid, means_intrans[species_idx_intrans, :], 'r', label='Mean SSA (in trans)')\n",
    "plt.fill_between(time_grid, means_intrans[species_idx_intrans,:]+stds_intrans[species_idx_intrans, :], means_intrans[species_idx_intrans,:]-stds_intrans[species_idx_intrans, :], \n",
    "                 color='r',alpha=0.3)\n",
    "plt.xlim([0, end_time])    \n",
    "plt.plot(time_grid, ode_res_intrans[species_idx_intrans, :], 'r--', label='ODE (in trans)')\n",
    "plt.xlabel('Time (s)')\n",
    "plt.ylabel('Number of species')\n",
    "plt.xlim([0, max(time_grid)])\n",
    "plt.ylim([0, 1.1 * max([(means_intrans[species_idx_intrans,:]+stds_intrans[species_idx_intrans, :]).max(), \n",
    "                        (means_incis[species_idx_incis,:]+stds_incis[species_idx_incis, :]).max()])])\n",
    "plt.legend()\n"
   ]
  },
  {
   "cell_type": "code",
   "execution_count": null,
   "id": "18ec82f3-3878-4a06-9651-bcd916963ed8",
   "metadata": {},
   "outputs": [],
   "source": []
  },
  {
   "cell_type": "code",
   "execution_count": null,
   "id": "6ba39d15-a8ea-41f3-9d52-10d63dc669ee",
   "metadata": {},
   "outputs": [],
   "source": []
  },
  {
   "cell_type": "code",
   "execution_count": null,
   "id": "703f0cce-6c40-4385-9da3-2a35f12ac0f9",
   "metadata": {},
   "outputs": [],
   "source": []
  }
 ],
 "metadata": {
  "kernelspec": {
   "display_name": "Python 3 (ipykernel)",
   "language": "python",
   "name": "python3"
  },
  "language_info": {
   "codemirror_mode": {
    "name": "ipython",
    "version": 3
   },
   "file_extension": ".py",
   "mimetype": "text/x-python",
   "name": "python",
   "nbconvert_exporter": "python",
   "pygments_lexer": "ipython3",
   "version": "3.9.12"
  }
 },
 "nbformat": 4,
 "nbformat_minor": 5
}
