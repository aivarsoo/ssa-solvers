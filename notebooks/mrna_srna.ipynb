{
 "cells": [
  {
   "cell_type": "code",
   "execution_count": null,
   "id": "87817fe0-f2a6-4d6c-ba2e-ca8ecdf500bd",
   "metadata": {},
   "outputs": [],
   "source": [
    "import torch\n",
    "import matplotlib.pyplot as plt\n",
    "import os \n",
    "\n",
    "# Changing the directory to the main directory in the docker image\n",
    "main_path = '/workspaces' \n",
    "os.chdir(main_path + '/ssa-solvers') # project directory\n",
    "\n",
    "%load_ext line_profiler\n",
    "%matplotlib inline\n",
    "\n",
    "torch.set_default_tensor_type(torch.FloatTensor)\n",
    "\n",
    "device = torch.device('cuda:0') if torch.cuda.is_available else torch.device(\"cpu\")\n"
   ]
  },
  {
   "cell_type": "code",
   "execution_count": null,
   "id": "a468ec83",
   "metadata": {},
   "outputs": [],
   "source": [
    "from ssa_solvers.simulators import StochasticSimulator, DeterministicSimulator \n",
    "\n",
    "end_time = 250\n",
    "n_steps = 100\n",
    "n_traj = 100\n",
    "time_grid = torch.arange(0, end_time, int(end_time / n_steps), device=device)\n"
   ]
  },
  {
   "cell_type": "markdown",
   "id": "03c0d647-af12-483f-8a37-6923e972c9ee",
   "metadata": {},
   "source": [
    "### Simulating in cis mRNA - sRNA  circuit"
   ]
  },
  {
   "cell_type": "code",
   "execution_count": null,
   "id": "56b0f05d-8cea-468d-930e-5281725dcb37",
   "metadata": {},
   "outputs": [],
   "source": [
    "from circuits.mrna_srna.mrna_srna_incis import mRNAsRNAInCis, cfg\n",
    "\n",
    "reaction_system_incis = mRNAsRNAInCis(device=device)\n",
    "ode_simulator = DeterministicSimulator(\n",
    "    reaction_system=reaction_system_incis,\n",
    "    cfg=cfg\n",
    ")\n",
    "ssa_simulator_incis = StochasticSimulator(\n",
    "    reaction_system=reaction_system_incis,\n",
    "    cfg=cfg,\n",
    "    device=device\n",
    ")\n",
    "reaction_system_incis.params = {'beta_fmrna': 2}  # increasing fmRNA production rate\n",
    "init_pops = torch.zeros((reaction_system_incis.n_species, ), dtype=torch.int64, device=device) #torch.randint(1, (reaction_system.n_species, ), device=device)\n",
    "ssa_simulator_incis.simulate(init_pops=init_pops, end_time=end_time, n_trajectories=n_traj)\n",
    "ode_res_incis = ode_simulator.simulate(init_pops=init_pops, time_grid=time_grid)"
   ]
  },
  {
   "cell_type": "markdown",
   "id": "f0d17297-c64d-441c-9734-75b3acf1b112",
   "metadata": {},
   "source": [
    "### Simulating in trans mRNA - sRNA  circuit"
   ]
  },
  {
   "cell_type": "code",
   "execution_count": null,
   "id": "b19d61a7-ca0c-4d86-a827-c623cc8f316e",
   "metadata": {},
   "outputs": [],
   "source": [
    "from circuits.mrna_srna.mrna_srna_intrans import mRNAsRNAInTrans, cfg\n",
    "\n",
    "reaction_system_intrans = mRNAsRNAInTrans(device=device)\n",
    "ode_simulator = DeterministicSimulator(\n",
    "    reaction_system=reaction_system_intrans,\n",
    "    cfg=cfg\n",
    ")\n",
    "cfg['stochastic_sim_cfg']['solver'] = 'first_reaction'\n",
    "cfg['stochastic_sim_cfg']['save_to_file'] = True\n",
    "\n",
    "ssa_simulator_intrans = StochasticSimulator(\n",
    "    reaction_system=reaction_system_intrans,\n",
    "    cfg=cfg,\n",
    "    device=device\n",
    ")\n",
    "init_pops = torch.zeros((reaction_system_intrans.n_species, ), dtype=torch.int64, device=device) #torch.randint(1, (reaction_system.n_species, ), device=device)\n",
    "ssa_simulator_intrans.simulate(init_pops=init_pops, end_time=end_time, n_trajectories=n_traj)\n",
    "ode_res_intrans = ode_simulator.simulate(init_pops=init_pops, time_grid=time_grid)"
   ]
  },
  {
   "cell_type": "markdown",
   "id": "418bc13f-0542-42d8-b286-aefcc9ed07fe",
   "metadata": {},
   "source": [
    "### Comptuting the statistics on a grid"
   ]
  },
  {
   "cell_type": "code",
   "execution_count": null,
   "id": "aa5e754d-884d-4188-9b72-e227fe04f2f6",
   "metadata": {},
   "outputs": [],
   "source": [
    "means_incis, stds_incis = ssa_simulator_incis.data_set.mean_and_std(time_grid=time_grid)\n",
    "\n",
    "means_intrans, stds_intrans = ssa_simulator_intrans.data_set.mean_and_std(time_grid=time_grid) "
   ]
  },
  {
   "cell_type": "markdown",
   "id": "d366f1e1-4665-400c-8844-6a8a5c86c889",
   "metadata": {},
   "source": [
    "### Plotting results"
   ]
  },
  {
   "cell_type": "code",
   "execution_count": null,
   "id": "9ac145e6",
   "metadata": {},
   "outputs": [],
   "source": [
    "time_grid = time_grid.cpu()\n",
    "\n",
    "plt.figure()\n",
    "species_idx_incis = 1\n",
    "plt.plot(time_grid, means_incis[species_idx_incis, :], 'b', label='Mean SSA (in cis)')\n",
    "plt.fill_between(time_grid, means_incis[species_idx_incis,:]+stds_incis[species_idx_incis, :], means_incis[species_idx_incis,:]-stds_incis[species_idx_incis, :], color='b', alpha=0.3)\n",
    "plt.plot(time_grid, ode_res_incis[species_idx_incis, :], 'b--', label='ODE (in cis)')\n",
    "plt.xlim([0, end_time])   \n",
    "plt.xlabel('Time (s)')\n",
    "plt.ylabel('Number of species')\n",
    "\n",
    "\n",
    "species_idx_intrans = 2\n",
    "plt.plot(time_grid, means_intrans[species_idx_intrans, :], 'r', label='Mean SSA (in trans)')\n",
    "plt.fill_between(time_grid, means_intrans[species_idx_intrans,:]+stds_intrans[species_idx_intrans, :], means_intrans[species_idx_intrans,:]-stds_intrans[species_idx_intrans, :], \n",
    "                color='r',alpha=0.3)\n",
    "plt.plot(time_grid, ode_res_intrans[species_idx_intrans, :], 'r--', label='ODE (in trans)')\n",
    "plt.xlim([0, end_time])    \n",
    "plt.xlabel('Time (s)')\n",
    "plt.ylabel('Number of species')\n",
    "plt.xlim([0, max(time_grid)])\n",
    "plt.ylim([0, 1.1 * max([(means_intrans[species_idx_intrans,:]+stds_intrans[species_idx_intrans, :]).max(), \n",
    "                        (means_incis[species_idx_incis,:]+stds_incis[species_idx_incis, :]).max()])])\n",
    "plt.legend()\n"
   ]
  }
 ],
 "metadata": {
  "kernelspec": {
   "display_name": "Python 3 (ipykernel)",
   "language": "python",
   "name": "python3"
  },
  "language_info": {
   "codemirror_mode": {
    "name": "ipython",
    "version": 3
   },
   "file_extension": ".py",
   "mimetype": "text/x-python",
   "name": "python",
   "nbconvert_exporter": "python",
   "pygments_lexer": "ipython3",
   "version": "3.10.9"
  }
 },
 "nbformat": 4,
 "nbformat_minor": 5
}
