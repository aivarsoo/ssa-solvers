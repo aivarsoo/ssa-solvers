{
 "cells": [
  {
   "cell_type": "code",
   "execution_count": null,
   "id": "87817fe0-f2a6-4d6c-ba2e-ca8ecdf500bd",
   "metadata": {},
   "outputs": [],
   "source": [
    "import torch\n",
    "\n",
    "import matplotlib.pyplot as plt\n",
    "import os \n",
    "from pathlib import Path\n",
    "\n",
    "# Changing the directory to the main directory in the docker image\n",
    "main_path = '/workspaces' \n",
    "os.chdir(main_path + '/ssa-solvers') # project directory\n",
    "\n",
    "%load_ext line_profiler\n",
    "%matplotlib inline\n",
    "\n",
    "torch.set_default_tensor_type(torch.FloatTensor) # no need for double precision \n",
    "device = torch.device('cuda:0') if torch.cuda.is_available else torch.device(\"cpu\")\n"
   ]
  },
  {
   "cell_type": "code",
   "execution_count": null,
   "id": "a468ec83",
   "metadata": {},
   "outputs": [],
   "source": [
    "from ssa_solvers.simulators import StochasticSimulator, DeterministicSimulator \n",
    "\n",
    "end_time = 400\n",
    "n_steps = 150 # recommend using 150 - 200 points\n",
    "n_traj = 1000\n",
    "time_grid = torch.arange(0, end_time, int(end_time / n_steps), device=device)\n"
   ]
  },
  {
   "cell_type": "markdown",
   "id": "03c0d647-af12-483f-8a37-6923e972c9ee",
   "metadata": {},
   "source": [
    "### Simulating in cis TetR autorepressor with sRNA  circuit"
   ]
  },
  {
   "cell_type": "code",
   "execution_count": null,
   "id": "56b0f05d-8cea-468d-930e-5281725dcb37",
   "metadata": {},
   "outputs": [],
   "source": [
    "from circuits.auto_repressor.tetr_srna_incis import TetRsRNAInCis, cfg\n",
    "\n",
    "reaction_system_incis = TetRsRNAInCis(device=device)\n",
    "ode_simulator = DeterministicSimulator(\n",
    "    reaction_system=reaction_system_incis,\n",
    "    cfg=cfg\n",
    ")\n",
    "ssa_simulator_incis = StochasticSimulator(\n",
    "    reaction_system=reaction_system_incis,\n",
    "    cfg=cfg,\n",
    "    device=device\n",
    ")\n",
    "reaction_system_incis.params = {'aTc': 100}  # setting aTc level\n",
    "init_pops = torch.zeros((reaction_system_incis.n_species, ), dtype=torch.int64, device=device) \n",
    "ssa_simulator_incis.simulate(init_pops=init_pops, end_time=end_time, n_trajectories=n_traj)\n",
    "ode_res_incis = ode_simulator.simulate(init_pops=init_pops, time_grid=time_grid)"
   ]
  },
  {
   "cell_type": "markdown",
   "id": "f0d17297-c64d-441c-9734-75b3acf1b112",
   "metadata": {},
   "source": [
    "### Simulating in trans TetR autorepressor with sRNA  circuit"
   ]
  },
  {
   "cell_type": "code",
   "execution_count": null,
   "id": "b19d61a7-ca0c-4d86-a827-c623cc8f316e",
   "metadata": {},
   "outputs": [],
   "source": [
    "from circuits.auto_repressor.tetr_srna_intrans import TetRsRNAInTrans, cfg\n",
    "reaction_system_intrans = TetRsRNAInTrans(device=device)\n",
    "\n",
    "ode_simulator = DeterministicSimulator(\n",
    "    reaction_system=reaction_system_intrans,\n",
    "    cfg=cfg\n",
    ")\n",
    "ssa_simulator_intrans = StochasticSimulator(\n",
    "    reaction_system=reaction_system_intrans,\n",
    "    cfg=cfg,\n",
    "    device=device\n",
    ")\n",
    "reaction_system_intrans.params = {'aTc': 100}  # setting aTc level\n",
    "init_pops = torch.zeros((reaction_system_intrans.n_species, ), dtype=torch.int64, device=device) #torch.randint(1, (reaction_system.n_species, ))\n",
    "ssa_simulator_intrans.simulate(init_pops=init_pops, end_time=end_time, n_trajectories=n_traj)\n",
    "ode_res_intrans = ode_simulator.simulate(init_pops=init_pops, time_grid=time_grid)"
   ]
  },
  {
   "cell_type": "markdown",
   "id": "418bc13f-0542-42d8-b286-aefcc9ed07fe",
   "metadata": {},
   "source": [
    "### Comptuting the statistics on a grid"
   ]
  },
  {
   "cell_type": "code",
   "execution_count": null,
   "id": "aa5e754d-884d-4188-9b72-e227fe04f2f6",
   "metadata": {},
   "outputs": [],
   "source": [
    "means_incis, stds_incis = ssa_simulator_incis.data_set.mean_and_std(time_grid=time_grid)\n",
    "\n",
    "means_intrans, stds_intrans = ssa_simulator_intrans.data_set.mean_and_std(time_grid=time_grid)"
   ]
  },
  {
   "cell_type": "markdown",
   "id": "d366f1e1-4665-400c-8844-6a8a5c86c889",
   "metadata": {},
   "source": [
    "### Plotting results"
   ]
  },
  {
   "cell_type": "code",
   "execution_count": null,
   "id": "9ac145e6",
   "metadata": {},
   "outputs": [],
   "source": [
    "time_grid = time_grid.cpu()\n",
    "\n",
    "species_idx_incis = 1\n",
    "plt.figure()\n",
    "plt.plot(time_grid, means_incis[species_idx_incis, :], 'b', label='Mean SSA (in cis)')\n",
    "plt.fill_between(time_grid, means_incis[species_idx_incis,:]+stds_incis[species_idx_incis, :], means_incis[species_idx_incis,:]-stds_incis[species_idx_incis, :], \n",
    "                 color='b', alpha=0.3)\n",
    "plt.xlim([0, end_time])    \n",
    "plt.plot(time_grid, ode_res_incis[species_idx_incis, :], 'b--', label='ODE (in cis)')\n",
    "plt.xlabel('Time (s)')\n",
    "plt.ylabel('Number of species')\n",
    "# random traces \n",
    "# trajs = [0, 40, 20, 11]\n",
    "# for traj_idx in trajs:\n",
    "#     plt.plot(data_set.raw_times_trajectories[traj_idx,  :], data_set.raw_pops_trajectories[traj_idx, species_idx, :], color='b')\n",
    "\n",
    "species_idx_intrans = 2\n",
    "plt.plot(time_grid, means_intrans[species_idx_intrans, :], 'r', label='Mean SSA (in trans)')\n",
    "plt.fill_between(time_grid, means_intrans[species_idx_intrans,:]+stds_intrans[species_idx_intrans, :], means_intrans[species_idx_intrans,:]-stds_intrans[species_idx_intrans, :], \n",
    "                 color='r',alpha=0.3)\n",
    "plt.xlim([0, end_time])    \n",
    "plt.plot(time_grid, ode_res_intrans[species_idx_intrans, :], 'r--', label='ODE (in trans)')\n",
    "plt.xlabel('Time (s)')\n",
    "plt.ylabel('Number of species')\n",
    "plt.xlim([0, max(time_grid)])\n",
    "plt.ylim([0, 1.1 * max([(means_intrans[species_idx_intrans,:]+stds_intrans[species_idx_intrans, :]).max(), \n",
    "                        (means_incis[species_idx_incis,:]+stds_incis[species_idx_incis, :]).max()])])\n",
    "plt.legend()\n"
   ]
  },
  {
   "cell_type": "markdown",
   "id": "518c3a9e-9ffe-4384-a8e5-c7c42a79458c",
   "metadata": {},
   "source": [
    "### Computing coefficient of variation on a grid "
   ]
  },
  {
   "cell_type": "code",
   "execution_count": null,
   "id": "d09552b6-c905-4616-a99e-de035d734def",
   "metadata": {},
   "outputs": [],
   "source": [
    "atc_grid = [0, 1, 10, 20, 100, 200, 1000]\n",
    "cov_incis = []\n",
    "cov_intrans = []\n",
    "mean_incis = []\n",
    "mean_intrans = []\n",
    "\n",
    "time_grid = torch.as_tensor([time_grid[-1]], device=device)\n",
    "for atc in atc_grid:\n",
    "    init_pops = torch.zeros((reaction_system_incis.n_species, ), dtype=torch.int64, device=device) \n",
    "    ssa_simulator_incis.set_reaction_params({'aTc': atc, 'k_rep': 5})\n",
    "    ssa_simulator_incis.simulate(init_pops=init_pops, end_time=end_time, n_trajectories=n_traj)\n",
    "    _mean_incis, _std_incis = ssa_simulator_incis.data_set.mean_and_std(time_grid=time_grid)\n",
    "    mean_incis.append(_mean_incis)\n",
    "    cov_incis.append(_std_incis / _mean_incis)\n",
    "    \n",
    "    init_pops = torch.zeros((reaction_system_intrans.n_species, ), dtype=torch.int64, device=device) \n",
    "    ssa_simulator_intrans.set_reaction_params({'aTc': atc, 'k_rep': 5})\n",
    "    ssa_simulator_intrans.simulate(init_pops=init_pops, end_time=end_time, n_trajectories=n_traj)\n",
    "    _mean_intrans, _std_intrans = ssa_simulator_intrans.data_set.mean_and_std(time_grid=time_grid)\n",
    "    mean_intrans.append(_mean_intrans)\n",
    "    cov_intrans.append(_std_intrans /_mean_intrans)"
   ]
  },
  {
   "cell_type": "markdown",
   "id": "c3746eb6-121a-423c-9e80-1d7ef2dd981e",
   "metadata": {},
   "source": [
    "### Plotting coefficient of variation"
   ]
  },
  {
   "cell_type": "code",
   "execution_count": null,
   "id": "3aba89ca-3f67-4a13-a96f-b2223c0ea22d",
   "metadata": {},
   "outputs": [],
   "source": [
    "species_idx_incis = 1\n",
    "species_idx_intrans = 2\n",
    "\n",
    "plt.figure()\n",
    "plt.plot(torch.stack(mean_incis)[:, species_idx_incis, :], \n",
    "         torch.stack(cov_incis)[:, species_idx_incis, :], 'r', label='in cis' )\n",
    "plt.plot(torch.stack(mean_intrans)[:, species_idx_intrans, :], \n",
    "         torch.stack(cov_intrans)[:, species_idx_intrans, :], 'b', label='in trans')\n",
    "plt.xlabel('Mean Protein (Number of Molecules) ')\n",
    "plt.ylabel('Coefficient of variation')\n",
    "# plt.legend()"
   ]
  }
 ],
 "metadata": {
  "kernelspec": {
   "display_name": "Python 3 (ipykernel)",
   "language": "python",
   "name": "python3"
  },
  "language_info": {
   "codemirror_mode": {
    "name": "ipython",
    "version": 3
   },
   "file_extension": ".py",
   "mimetype": "text/x-python",
   "name": "python",
   "nbconvert_exporter": "python",
   "pygments_lexer": "ipython3",
   "version": "3.10.9"
  },
  "vscode": {
   "interpreter": {
    "hash": "39a085cfc87e035489051f76aa1f46cd1ae3573f0de7a69aa263831ac8b7f28b"
   }
  }
 },
 "nbformat": 4,
 "nbformat_minor": 5
}
